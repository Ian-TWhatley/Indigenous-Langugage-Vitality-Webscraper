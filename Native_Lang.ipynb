{
 "cells": [
  {
   "cell_type": "code",
   "execution_count": 50,
   "metadata": {},
   "outputs": [],
   "source": [
    "from bs4 import BeautifulSoup\n",
    "import pandas as pd\n",
    "import requests\n",
    "import wikipedia\n",
    "from tqdm import tqdm\n",
    "# req: lxml"
   ]
  },
  {
   "cell_type": "code",
   "execution_count": 61,
   "metadata": {},
   "outputs": [],
   "source": [
    "def get_wiki(x,html=False):\n",
    "    'get a wikipedia page from the title of an html snippet'\n",
    "    if html:\n",
    "        return wikipedia.WikipediaPage(x.get('title'))\n",
    "    else:\n",
    "        return wikipedia.page(x.get('title'))"
   ]
  },
  {
   "cell_type": "code",
   "execution_count": 79,
   "metadata": {},
   "outputs": [
    {
     "name": "stderr",
     "output_type": "stream",
     "text": [
      "C:\\Users\\druid\\AppData\\Local\\Temp\\ipykernel_19404\\1754983648.py:6: FutureWarning: Passing literal html to 'read_html' is deprecated and will be removed in a future version. To read from a literal string, wrap it in a 'StringIO' object.\n",
      "  df= pd.read_html(str(table))\n"
     ]
    }
   ],
   "source": [
    "def get_table(url_link):\n",
    "    content = requests.get(url_link).text\n",
    "    soup = BeautifulSoup(content,'html.parser')\n",
    "    table = soup.find_all('table', 'wikitable')\n",
    "\n",
    "    df= pd.read_html(str(table))\n",
    "    df=pd.DataFrame(df[0])\n",
    "    return df, soup\n",
    "\n",
    "\n",
    "df,soup = get_table(url_link=\"https://en.wikipedia.org/wiki/Indigenous_languages_of_the_Americas\")\n",
    "df = df.drop('Source',axis=1)\n",
    "data = df.rename(columns={'Number of speakers':'Number'})\n",
    "data = data.rename(columns={'Area(s) Language is spoken':'Areas'})"
   ]
  },
  {
   "cell_type": "code",
   "execution_count": 80,
   "metadata": {},
   "outputs": [
    {
     "data": {
      "text/html": [
       "<div>\n",
       "<style scoped>\n",
       "    .dataframe tbody tr th:only-of-type {\n",
       "        vertical-align: middle;\n",
       "    }\n",
       "\n",
       "    .dataframe tbody tr th {\n",
       "        vertical-align: top;\n",
       "    }\n",
       "\n",
       "    .dataframe thead th {\n",
       "        text-align: right;\n",
       "    }\n",
       "</style>\n",
       "<table border=\"1\" class=\"dataframe\">\n",
       "  <thead>\n",
       "    <tr style=\"text-align: right;\">\n",
       "      <th></th>\n",
       "      <th>Language</th>\n",
       "      <th>Number</th>\n",
       "      <th>Official Recognition</th>\n",
       "      <th>Areas</th>\n",
       "    </tr>\n",
       "  </thead>\n",
       "  <tbody>\n",
       "    <tr>\n",
       "      <th>0</th>\n",
       "      <td>Guaraní</td>\n",
       "      <td>6500000</td>\n",
       "      <td>Paraguay (Official Language) Bolivia Corriente...</td>\n",
       "      <td>Paraguay, Bolivia, Argentina, Brazil</td>\n",
       "    </tr>\n",
       "    <tr>\n",
       "      <th>1</th>\n",
       "      <td>Southern Quechua</td>\n",
       "      <td>5,000,000 (outdated figure)[when?]</td>\n",
       "      <td>Bolivia (Official Language) Peru (Official Lan...</td>\n",
       "      <td>Bolivia, Peru, Argentina, Chile</td>\n",
       "    </tr>\n",
       "    <tr>\n",
       "      <th>2</th>\n",
       "      <td>Nahuatl</td>\n",
       "      <td>1700000</td>\n",
       "      <td>Mexico</td>\n",
       "      <td>Mexico</td>\n",
       "    </tr>\n",
       "    <tr>\n",
       "      <th>3</th>\n",
       "      <td>Aymara</td>\n",
       "      <td>1700000</td>\n",
       "      <td>Bolivia (Official Language) Peru (Official Lan...</td>\n",
       "      <td>Bolivia, Peru, Chile</td>\n",
       "    </tr>\n",
       "    <tr>\n",
       "      <th>4</th>\n",
       "      <td>Qʼeqchiʼ</td>\n",
       "      <td>1100000</td>\n",
       "      <td>Guatemala Belize Mexico</td>\n",
       "      <td>Guatemala, Belize, Mexico</td>\n",
       "    </tr>\n",
       "    <tr>\n",
       "      <th>...</th>\n",
       "      <td>...</td>\n",
       "      <td>...</td>\n",
       "      <td>...</td>\n",
       "      <td>...</td>\n",
       "    </tr>\n",
       "    <tr>\n",
       "      <th>237</th>\n",
       "      <td>Taíno languages</td>\n",
       "      <td>0</td>\n",
       "      <td>NaN</td>\n",
       "      <td>Formerly all of the Caribbean</td>\n",
       "    </tr>\n",
       "    <tr>\n",
       "      <th>238</th>\n",
       "      <td>Cochimí</td>\n",
       "      <td>0</td>\n",
       "      <td>Mexico (Extinct, but retains recognition)</td>\n",
       "      <td>NaN</td>\n",
       "    </tr>\n",
       "    <tr>\n",
       "      <th>239</th>\n",
       "      <td>Kallawaya</td>\n",
       "      <td>0</td>\n",
       "      <td>Bolivia (Extinct, but retains recognition)</td>\n",
       "      <td>NaN</td>\n",
       "    </tr>\n",
       "    <tr>\n",
       "      <th>240</th>\n",
       "      <td>Eyak</td>\n",
       "      <td>0</td>\n",
       "      <td>Alaska, United States (Extinct, but retains re...</td>\n",
       "      <td>NaN</td>\n",
       "    </tr>\n",
       "    <tr>\n",
       "      <th>241</th>\n",
       "      <td>Tuscarora</td>\n",
       "      <td>0</td>\n",
       "      <td>Six Nations of the Grand River First Nation, O...</td>\n",
       "      <td>Ontario, Canada, and New York, United States</td>\n",
       "    </tr>\n",
       "  </tbody>\n",
       "</table>\n",
       "<p>242 rows × 4 columns</p>\n",
       "</div>"
      ],
      "text/plain": [
       "             Language                              Number  \\\n",
       "0             Guaraní                             6500000   \n",
       "1    Southern Quechua  5,000,000 (outdated figure)[when?]   \n",
       "2             Nahuatl                             1700000   \n",
       "3              Aymara                             1700000   \n",
       "4            Qʼeqchiʼ                             1100000   \n",
       "..                ...                                 ...   \n",
       "237   Taíno languages                                   0   \n",
       "238           Cochimí                                   0   \n",
       "239         Kallawaya                                   0   \n",
       "240              Eyak                                   0   \n",
       "241         Tuscarora                                   0   \n",
       "\n",
       "                                  Official Recognition  \\\n",
       "0    Paraguay (Official Language) Bolivia Corriente...   \n",
       "1    Bolivia (Official Language) Peru (Official Lan...   \n",
       "2                                               Mexico   \n",
       "3    Bolivia (Official Language) Peru (Official Lan...   \n",
       "4                              Guatemala Belize Mexico   \n",
       "..                                                 ...   \n",
       "237                                                NaN   \n",
       "238          Mexico (Extinct, but retains recognition)   \n",
       "239         Bolivia (Extinct, but retains recognition)   \n",
       "240  Alaska, United States (Extinct, but retains re...   \n",
       "241  Six Nations of the Grand River First Nation, O...   \n",
       "\n",
       "                                            Areas  \n",
       "0            Paraguay, Bolivia, Argentina, Brazil  \n",
       "1                 Bolivia, Peru, Argentina, Chile  \n",
       "2                                          Mexico  \n",
       "3                            Bolivia, Peru, Chile  \n",
       "4                       Guatemala, Belize, Mexico  \n",
       "..                                            ...  \n",
       "237                 Formerly all of the Caribbean  \n",
       "238                                           NaN  \n",
       "239                                           NaN  \n",
       "240                                           NaN  \n",
       "241  Ontario, Canada, and New York, United States  \n",
       "\n",
       "[242 rows x 4 columns]"
      ]
     },
     "execution_count": 80,
     "metadata": {},
     "output_type": "execute_result"
    }
   ],
   "source": [
    "data"
   ]
  },
  {
   "cell_type": "code",
   "execution_count": 81,
   "metadata": {},
   "outputs": [
    {
     "name": "stdout",
     "output_type": "stream",
     "text": [
      "91\n"
     ]
    },
    {
     "name": "stderr",
     "output_type": "stream",
     "text": [
      "C:\\Users\\druid\\AppData\\Local\\Temp\\ipykernel_19404\\2138414885.py:13: FutureWarning: ChainedAssignmentError: behaviour will change in pandas 3.0!\n",
      "You are setting values through chained assignment. Currently this works in certain cases, but when using Copy-on-Write (which will become the default behaviour in pandas 3.0) this will never work to update the original DataFrame or Series, because the intermediate object on which we are setting values will behave as a copy.\n",
      "A typical example is when you are setting values in a column of a DataFrame, like:\n",
      "\n",
      "df[\"col\"][row_indexer] = value\n",
      "\n",
      "Use `df.loc[row_indexer, \"col\"] = values` instead, to perform the assignment in a single step and ensure this keeps updating the original `df`.\n",
      "\n",
      "See the caveats in the documentation: https://pandas.pydata.org/pandas-docs/stable/user_guide/indexing.html#returning-a-view-versus-a-copy\n",
      "\n",
      "  data.Number[91] = '10500'\n",
      "C:\\Users\\druid\\AppData\\Local\\Temp\\ipykernel_19404\\2138414885.py:18: SettingWithCopyWarning: \n",
      "A value is trying to be set on a copy of a slice from a DataFrame.\n",
      "Try using .loc[row_indexer,col_indexer] = value instead\n",
      "\n",
      "See the caveats in the documentation: https://pandas.pydata.org/pandas-docs/stable/user_guide/indexing.html#returning-a-view-versus-a-copy\n",
      "  data.Number = data.Number.astype(int)\n"
     ]
    }
   ],
   "source": [
    "def fixxr(x):\n",
    "    x = x.split(' ',1)[0]\n",
    "    x = x.replace(',','')\n",
    "    return x\n",
    "\n",
    "data.Number=data.Number.apply(fixxr)\n",
    "#Remove abnormalities (beta)\n",
    "for num in data.Number:\n",
    "    test = any(ele not in ['1','2','3','4','5','6','7','8','9','0'] for ele in list(num))\n",
    "    if test == True:\n",
    "        print(list(data.Number).index(num))\n",
    "# For now, manually rename\n",
    "data.Number[91] = '10500'\n",
    "\n",
    "data = data[data.Number != '0']\n",
    "\n",
    "#turn into in\n",
    "data.Number = data.Number.astype(int)\n",
    "\n",
    "#take average of number"
   ]
  },
  {
   "cell_type": "code",
   "execution_count": null,
   "metadata": {},
   "outputs": [],
   "source": [
    "# Maybe the best thing to do is to take the get the \n",
    "# countries raw first, and only keep the key wards. After that\n",
    "# we can create a list of lists."
   ]
  },
  {
   "cell_type": "code",
   "execution_count": 83,
   "metadata": {},
   "outputs": [
    {
     "name": "stderr",
     "output_type": "stream",
     "text": [
      "C:\\Users\\druid\\AppData\\Local\\Temp\\ipykernel_19404\\189347970.py:1: SettingWithCopyWarning: \n",
      "A value is trying to be set on a copy of a slice from a DataFrame.\n",
      "Try using .loc[row_indexer,col_indexer] = value instead\n",
      "\n",
      "See the caveats in the documentation: https://pandas.pydata.org/pandas-docs/stable/user_guide/indexing.html#returning-a-view-versus-a-copy\n",
      "  data['Areas'] = [data['Areas'][i].split(', ') for i in range(len(data['Areas']))]\n",
      "C:\\Users\\druid\\AppData\\Local\\Temp\\ipykernel_19404\\189347970.py:3: FutureWarning: ChainedAssignmentError: behaviour will change in pandas 3.0!\n",
      "You are setting values through chained assignment. Currently this works in certain cases, but when using Copy-on-Write (which will become the default behaviour in pandas 3.0) this will never work to update the original DataFrame or Series, because the intermediate object on which we are setting values will behave as a copy.\n",
      "A typical example is when you are setting values in a column of a DataFrame, like:\n",
      "\n",
      "df[\"col\"][row_indexer] = value\n",
      "\n",
      "Use `df.loc[row_indexer, \"col\"] = values` instead, to perform the assignment in a single step and ensure this keeps updating the original `df`.\n",
      "\n",
      "See the caveats in the documentation: https://pandas.pydata.org/pandas-docs/stable/user_guide/indexing.html#returning-a-view-versus-a-copy\n",
      "\n",
      "  data['Areas'][5] = ['Guatamala','Mexico']\n",
      "C:\\Users\\druid\\AppData\\Local\\Temp\\ipykernel_19404\\189347970.py:3: SettingWithCopyWarning: \n",
      "A value is trying to be set on a copy of a slice from a DataFrame\n",
      "\n",
      "See the caveats in the documentation: https://pandas.pydata.org/pandas-docs/stable/user_guide/indexing.html#returning-a-view-versus-a-copy\n",
      "  data['Areas'][5] = ['Guatamala','Mexico']\n"
     ]
    }
   ],
   "source": [
    "data['Areas'] = [data['Areas'][i].split(', ') for i in range(len(data['Areas']))]\n",
    "# data['Areas'] = [data['Areas'][i].split(' & ') for i in range(len(data['Areas']))]\n",
    "data['Areas'][5] = ['Guatamala','Mexico']\n",
    "# data = data[data.Number >= 10000]\n",
    "# countries = ['Argentina','Bolivia','Brazil','Canada','Chile','Colombia','Costa Rica',\n",
    "#             'Ecuador','El Salvador','French Guiana','Guatemala','Honduras',\n",
    "#             'Mexico','Nicaragua','Panama','Paraguay','Peru','Suriname',\n",
    "#             'United States','Uruguay','Venezuela']\n",
    "# for i in tqdm(range(len(data.Areas))):\n",
    "#     for j in tqdm(range(len(data.Areas[i]))):\n",
    "#         if any(data.Areas[i]) not in countries:\n",
    "#             data.Areas[i][j].remove(data.Areas[i][j])"
   ]
  },
  {
   "cell_type": "code",
   "execution_count": 41,
   "metadata": {},
   "outputs": [],
   "source": [
    "data.Areas[80].remove(\"Guaviare\")"
   ]
  },
  {
   "cell_type": "code",
   "execution_count": 86,
   "metadata": {},
   "outputs": [
    {
     "data": {
      "text/plain": [
       "['Tierra del Fuego', 'Chile/Argentina (Extinct)']"
      ]
     },
     "execution_count": 86,
     "metadata": {},
     "output_type": "execute_result"
    }
   ],
   "source": [
    "data.Areas[234]"
   ]
  },
  {
   "cell_type": "code",
   "execution_count": 78,
   "metadata": {},
   "outputs": [
    {
     "name": "stderr",
     "output_type": "stream",
     "text": [
      "C:\\Users\\druid\\AppData\\Local\\Temp\\ipykernel_19404\\3924154229.py:8: SettingWithCopyWarning: \n",
      "A value is trying to be set on a copy of a slice from a DataFrame.\n",
      "Try using .loc[row_indexer,col_indexer] = value instead\n",
      "\n",
      "See the caveats in the documentation: https://pandas.pydata.org/pandas-docs/stable/user_guide/indexing.html#returning-a-view-versus-a-copy\n",
      "  data['Areas'] = data['Areas'].apply(lambda area_list: [country for country in area_list if country in countries])\n"
     ]
    },
    {
     "data": {
      "text/plain": [
       "0      [Paraguay, Bolivia, Argentina, Brazil]\n",
       "1           [Bolivia, Peru, Argentina, Chile]\n",
       "2                                    [Mexico]\n",
       "3                      [Bolivia, Peru, Chile]\n",
       "4                         [Guatemala, Mexico]\n",
       "                        ...                  \n",
       "230                                        []\n",
       "231                                        []\n",
       "232                                 [Bolivia]\n",
       "233                                  [Mexico]\n",
       "234                                        []\n",
       "Name: Areas, Length: 235, dtype: object"
      ]
     },
     "execution_count": 78,
     "metadata": {},
     "output_type": "execute_result"
    }
   ],
   "source": [
    "# Filter data.Areas to keep only core Latin American countries in each list\n",
    "countries = [\n",
    "    'Argentina','Bolivia','Brazil','Canada','Chile','Colombia','Costa Rica',\n",
    "    'Ecuador','El Salvador','French Guiana','Guatemala','Honduras',\n",
    "    'Mexico','Nicaragua','Panama','Paraguay','Peru','Suriname',\n",
    "    'United States','Uruguay','Venezuela'\n",
    "]\n",
    "data['Areas'] = data['Areas'].apply(lambda area_list: [country for country in area_list if country in countries])\n",
    "data.Areas"
   ]
  },
  {
   "cell_type": "code",
   "execution_count": null,
   "metadata": {},
   "outputs": [],
   "source": [
    "data"
   ]
  },
  {
   "cell_type": "code",
   "execution_count": 108,
   "metadata": {},
   "outputs": [
    {
     "data": {
      "text/plain": [
       "['Guatemala',\n",
       " 'Canada',\n",
       " 'Valle del Cauca)',\n",
       " 'Brazil',\n",
       " 'Colombia',\n",
       " 'Nicaragua',\n",
       " 'Northwest Territories',\n",
       " 'Arauca',\n",
       " 'Guatemala Mexico',\n",
       " 'Chile (Galvarino',\n",
       " 'Vichada',\n",
       " 'Paraguay',\n",
       " 'Guatamala',\n",
       " 'Canada & Montana',\n",
       " 'Colombia (Chocó',\n",
       " 'Venezuela & Colombia',\n",
       " 'Nunavut',\n",
       " 'Mexico & Belize',\n",
       " 'Mato Grosso do Sul',\n",
       " 'Southwestern United States',\n",
       " 'Nariño',\n",
       " 'Guatemala & Mexico',\n",
       " 'Colombia (Meta',\n",
       " 'Padre Las Casas)',\n",
       " 'Greenland',\n",
       " 'Quebec and Labrador',\n",
       " 'Nariño Department',\n",
       " 'United States',\n",
       " 'Colombia (Cauca',\n",
       " 'Chile',\n",
       " 'Mato Grosso',\n",
       " 'Guaviare)',\n",
       " 'Ecuador & Colombia (Cauca',\n",
       " 'Belize',\n",
       " 'Putumayo)',\n",
       " 'Honduras',\n",
       " '(Baníwa language)',\n",
       " 'Arizona',\n",
       " 'Alberta',\n",
       " 'Amazonas regions of Brazil and Colombia',\n",
       " 'Guainía',\n",
       " 'Cautín Province',\n",
       " 'Ecuador',\n",
       " 'Bolivia',\n",
       " 'Brazil & Venezuela',\n",
       " 'Guatemala & Belize',\n",
       " 'Argentina',\n",
       " 'Canada & United States',\n",
       " 'Colombia & Amazonas',\n",
       " 'Cauca',\n",
       " 'Peru',\n",
       " 'Cauca Department',\n",
       " 'Alaska',\n",
       " 'Mexico',\n",
       " 'Colombia (Chocó & Antioquia)',\n",
       " 'Chaco',\n",
       " 'New Mexico',\n",
       " 'Guaviare',\n",
       " 'US',\n",
       " 'La Araucanía',\n",
       " 'Venezuela',\n",
       " 'Huila']"
      ]
     },
     "execution_count": 108,
     "metadata": {},
     "output_type": "execute_result"
    }
   ],
   "source": [
    "dic = {'Country':,}\n",
    "for i in range(len(data['Area(s) Language is spoken'])):\n",
    "    if len(data['Area(s) Language is spoken'][i])==1:\n",
    "        dic['Country'].append()\n",
    "        dic['Number'] = "
   ]
  },
  {
   "cell_type": "code",
   "execution_count": 99,
   "metadata": {},
   "outputs": [
    {
     "name": "stderr",
     "output_type": "stream",
     "text": [
      "C:\\Users\\druid\\AppData\\Local\\Temp\\ipykernel_26728\\134902028.py:1: FutureWarning: The geopandas.dataset module is deprecated and will be removed in GeoPandas 1.0. You can get the original 'naturalearth_lowres' data from https://www.naturalearthdata.com/downloads/110m-cultural-vectors/.\n",
      "  world = gpd.read_file(gpd.datasets.get_path(\"naturalearth_lowres\"))\n"
     ]
    },
    {
     "data": {
      "image/png": "[encoded data removed]",
      "text/plain": [
       "<Figure size 1440x720 with 1 Axes>"
      ]
     },
     "metadata": {},
     "output_type": "display_data"
    }
   ],
   "source": [
    "world = gpd.read_file(gpd.datasets.get_path(\"naturalearth_lowres\"))\n",
    "# initialize a new figure\n",
    "fig = plt.figure(figsize=(20, 10))\n",
    "ax = fig.add_subplot()\n",
    "\n",
    "# grab all African countries\n",
    "africa = world[world[\"continent\"] == \"North America\"]\n",
    "\n",
    "# plot a basic map of Asia\n",
    "africa.plot(\n",
    "    ax=ax,\n",
    "    cmap=\"Pastel1\",\n",
    "    edgecolor=\"black\",\n",
    "    alpha=0.5\n",
    ")\n",
    "\n",
    "# turn off axis ticks\n",
    "ax.set_xticks([])\n",
    "ax.set_yticks([])\n",
    "\n",
    "# set the plot title\n",
    "plt.title(\"Map of Africa with GeoPandas\")\n",
    "plt.show()"
   ]
  },
  {
   "cell_type": "code",
   "execution_count": 5,
   "metadata": {},
   "outputs": [
    {
     "name": "stderr",
     "output_type": "stream",
     "text": [
      " 11%|█▏        | 65/567 [00:26<03:46,  2.22it/s]c:\\Users\\druid\\anaconda3\\lib\\site-packages\\wikipedia\\wikipedia.py:389: GuessedAtParserWarning: No parser was explicitly specified, so I'm using the best available HTML parser for this system (\"lxml\"). This usually isn't a problem, but if you run this code on another system, or in a different virtual environment, it may use a different parser and behave differently.\n",
      "\n",
      "The code that caused this warning is on line 389 of the file c:\\Users\\druid\\anaconda3\\lib\\site-packages\\wikipedia\\wikipedia.py. To get rid of this warning, pass the additional argument 'features=\"lxml\"' to the BeautifulSoup constructor.\n",
      "\n",
      "  lis = BeautifulSoup(html).find_all('li')\n",
      "100%|██████████| 567/567 [03:13<00:00,  2.92it/s]\n",
      "100%|██████████| 537/537 [02:55<00:00,  3.06it/s]\n"
     ]
    }
   ],
   "source": [
    "table = soup.find('table', 'wikitable')\n",
    "links = table.findAll('a')\n",
    "\n",
    "keep = []\n",
    "for link in links: # Remove all the non titles\n",
    "    if 'title' in str(link):\n",
    "        keep.append(link)\n",
    "links = keep\n",
    "\n",
    "keep = []\n",
    "for link in tqdm(links):\n",
    "    try:\n",
    "        get_wiki(link)\n",
    "        keep.append(link)\n",
    "    except:\n",
    "        pass\n",
    "links = keep\n",
    "\n",
    "# The problem at this point is that it deletes languages.\n",
    "# Maybe I oculd use some metric of the categories and use ML to find similarties in the vectors...\n",
    "keep = []\n",
    "for link in tqdm(links): \n",
    "    if any('Languages of' in cat for cat in get_wiki(link).categories) == True:\n",
    "        keep.append(link)\n",
    "links = keep\n",
    "\n",
    "# Everything Past this Point isn't complete"
   ]
  },
  {
   "cell_type": "code",
   "execution_count": null,
   "metadata": {},
   "outputs": [],
   "source": [
    "# Get the content from the links\n",
    "links_content = {}\n",
    "print('Done extracting links. About to fetch: %s links..' % len(links))\n",
    "for link in links:\n",
    "    print('Fetching: %s' % link)\n",
    "    links_content[link.get('title')] = get_wiki_html(link).html()"
   ]
  },
  {
   "cell_type": "code",
   "execution_count": 75,
   "metadata": {},
   "outputs": [],
   "source": [
    "soup = BeautifulSoup(get_wiki_html(links[0]).html(),'html.parser')\n",
    "table = soup.find('table', class_='infobox vevent')\n",
    "table = table.find_all('td')"
   ]
  }
 ],
 "metadata": {
  "kernelspec": {
   "display_name": "Python 3",
   "language": "python",
   "name": "python3"
  },
  "language_info": {
   "codemirror_mode": {
    "name": "ipython",
    "version": 3
   },
   "file_extension": ".py",
   "mimetype": "text/x-python",
   "name": "python",
   "nbconvert_exporter": "python",
   "pygments_lexer": "ipython3",
   "version": "3.11.9"
  }
 },
 "nbformat": 4,
 "nbformat_minor": 2
}
