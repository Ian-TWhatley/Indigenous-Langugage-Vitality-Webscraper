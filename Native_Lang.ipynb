{
 "cells": [
  {
   "cell_type": "code",
   "execution_count": 1,
   "metadata": {},
   "outputs": [
    {
     "ename": "ModuleNotFoundError",
     "evalue": "No module named 'requests'",
     "output_type": "error",
     "traceback": [
      "\u001b[1;31m---------------------------------------------------------------------------\u001b[0m",
      "\u001b[1;31mModuleNotFoundError\u001b[0m                       Traceback (most recent call last)",
      "Cell \u001b[1;32mIn[1], line 3\u001b[0m\n\u001b[0;32m      1\u001b[0m \u001b[38;5;28;01mfrom\u001b[39;00m \u001b[38;5;21;01mbs4\u001b[39;00m \u001b[38;5;28;01mimport\u001b[39;00m BeautifulSoup\n\u001b[0;32m      2\u001b[0m \u001b[38;5;28;01mimport\u001b[39;00m \u001b[38;5;21;01mpandas\u001b[39;00m \u001b[38;5;28;01mas\u001b[39;00m \u001b[38;5;21;01mpd\u001b[39;00m\n\u001b[1;32m----> 3\u001b[0m \u001b[38;5;28;01mimport\u001b[39;00m \u001b[38;5;21;01mrequests\u001b[39;00m\n\u001b[0;32m      4\u001b[0m \u001b[38;5;28;01mimport\u001b[39;00m \u001b[38;5;21;01mwikipedia\u001b[39;00m\n",
      "\u001b[1;31mModuleNotFoundError\u001b[0m: No module named 'requests'"
     ]
    }
   ],
   "source": [
    "from bs4 import BeautifulSoup\n",
    "import pandas as pd\n",
    "import requests\n",
    "import wikipedia"
   ]
  },
  {
   "cell_type": "code",
   "execution_count": 429,
   "metadata": {},
   "outputs": [],
   "source": [
    "url_link = \"https://en.wikipedia.org/wiki/Indigenous_languages_of_the_Americas\"\n",
    "content = requests.get(url_link).text\n",
    "soup = BeautifulSoup(content,'html.parser')\n",
    "table = soup.find_all('table', 'wikitable')\n",
    "\n",
    "df= pd.read_html(str(table))\n",
    "df=pd.DataFrame(df[0])\n",
    "\n",
    "df = df.drop('Source',axis=1)\n",
    "data = df.rename(columns={'Number of speakers':'number'})"
   ]
  },
  {
   "cell_type": "code",
   "execution_count": 430,
   "metadata": {},
   "outputs": [
    {
     "name": "stdout",
     "output_type": "stream",
     "text": [
      "90\n"
     ]
    },
    {
     "data": {
      "text/html": [
       "<div>\n",
       "<style scoped>\n",
       "    .dataframe tbody tr th:only-of-type {\n",
       "        vertical-align: middle;\n",
       "    }\n",
       "\n",
       "    .dataframe tbody tr th {\n",
       "        vertical-align: top;\n",
       "    }\n",
       "\n",
       "    .dataframe thead th {\n",
       "        text-align: right;\n",
       "    }\n",
       "</style>\n",
       "<table border=\"1\" class=\"dataframe\">\n",
       "  <thead>\n",
       "    <tr style=\"text-align: right;\">\n",
       "      <th></th>\n",
       "      <th>Language</th>\n",
       "      <th>number</th>\n",
       "      <th>Official Recognition</th>\n",
       "      <th>Area(s) Language is spoken</th>\n",
       "    </tr>\n",
       "  </thead>\n",
       "  <tbody>\n",
       "    <tr>\n",
       "      <th>0</th>\n",
       "      <td>Guaraní</td>\n",
       "      <td>6500000</td>\n",
       "      <td>Paraguay (Official Language) Bolivia Corriente...</td>\n",
       "      <td>Paraguay, Bolivia, Argentina, Brazil</td>\n",
       "    </tr>\n",
       "    <tr>\n",
       "      <th>1</th>\n",
       "      <td>Southern Quechua</td>\n",
       "      <td>5000000</td>\n",
       "      <td>Bolivia (Official Language) Peru (Official Lan...</td>\n",
       "      <td>Bolivia, Peru, Argentina, Chile</td>\n",
       "    </tr>\n",
       "    <tr>\n",
       "      <th>2</th>\n",
       "      <td>Nahuatl</td>\n",
       "      <td>1700000</td>\n",
       "      <td>Mexico</td>\n",
       "      <td>Mexico</td>\n",
       "    </tr>\n",
       "    <tr>\n",
       "      <th>3</th>\n",
       "      <td>Aymara</td>\n",
       "      <td>1700000</td>\n",
       "      <td>Bolivia (Official Language) Peru (Official Lan...</td>\n",
       "      <td>Bolivia, Peru, Chile</td>\n",
       "    </tr>\n",
       "    <tr>\n",
       "      <th>4</th>\n",
       "      <td>Qʼeqchiʼ</td>\n",
       "      <td>1100000</td>\n",
       "      <td>Guatemala Belize Mexico</td>\n",
       "      <td>Guatemala, Belize, Mexico</td>\n",
       "    </tr>\n",
       "    <tr>\n",
       "      <th>...</th>\n",
       "      <td>...</td>\n",
       "      <td>...</td>\n",
       "      <td>...</td>\n",
       "      <td>...</td>\n",
       "    </tr>\n",
       "    <tr>\n",
       "      <th>229</th>\n",
       "      <td>Comanche</td>\n",
       "      <td>9</td>\n",
       "      <td>NaN</td>\n",
       "      <td>US</td>\n",
       "    </tr>\n",
       "    <tr>\n",
       "      <th>230</th>\n",
       "      <td>Carijona</td>\n",
       "      <td>6</td>\n",
       "      <td>Colombia (Amazonas, Guaviare)</td>\n",
       "      <td>Colombia (Amazonas, Guaviare)</td>\n",
       "    </tr>\n",
       "    <tr>\n",
       "      <th>231</th>\n",
       "      <td>Itonama</td>\n",
       "      <td>5</td>\n",
       "      <td>Bolivia</td>\n",
       "      <td>Bolivia</td>\n",
       "    </tr>\n",
       "    <tr>\n",
       "      <th>232</th>\n",
       "      <td>Kiliwa</td>\n",
       "      <td>4</td>\n",
       "      <td>Mexico</td>\n",
       "      <td>Mexico</td>\n",
       "    </tr>\n",
       "    <tr>\n",
       "      <th>233</th>\n",
       "      <td>Selk'nam</td>\n",
       "      <td>1</td>\n",
       "      <td>NaN</td>\n",
       "      <td>Tierra del Fuego, Chile/Argentina (Extinct)</td>\n",
       "    </tr>\n",
       "  </tbody>\n",
       "</table>\n",
       "<p>234 rows × 4 columns</p>\n",
       "</div>"
      ],
      "text/plain": [
       "             Language   number  \\\n",
       "0             Guaraní  6500000   \n",
       "1    Southern Quechua  5000000   \n",
       "2             Nahuatl  1700000   \n",
       "3              Aymara  1700000   \n",
       "4            Qʼeqchiʼ  1100000   \n",
       "..                ...      ...   \n",
       "229          Comanche        9   \n",
       "230          Carijona        6   \n",
       "231           Itonama        5   \n",
       "232            Kiliwa        4   \n",
       "233          Selk'nam        1   \n",
       "\n",
       "                                  Official Recognition  \\\n",
       "0    Paraguay (Official Language) Bolivia Corriente...   \n",
       "1    Bolivia (Official Language) Peru (Official Lan...   \n",
       "2                                               Mexico   \n",
       "3    Bolivia (Official Language) Peru (Official Lan...   \n",
       "4                              Guatemala Belize Mexico   \n",
       "..                                                 ...   \n",
       "229                                                NaN   \n",
       "230                      Colombia (Amazonas, Guaviare)   \n",
       "231                                            Bolivia   \n",
       "232                                             Mexico   \n",
       "233                                                NaN   \n",
       "\n",
       "                      Area(s) Language is spoken  \n",
       "0           Paraguay, Bolivia, Argentina, Brazil  \n",
       "1                Bolivia, Peru, Argentina, Chile  \n",
       "2                                         Mexico  \n",
       "3                           Bolivia, Peru, Chile  \n",
       "4                      Guatemala, Belize, Mexico  \n",
       "..                                           ...  \n",
       "229                                           US  \n",
       "230                Colombia (Amazonas, Guaviare)  \n",
       "231                                      Bolivia  \n",
       "232                                       Mexico  \n",
       "233  Tierra del Fuego, Chile/Argentina (Extinct)  \n",
       "\n",
       "[234 rows x 4 columns]"
      ]
     },
     "execution_count": 430,
     "metadata": {},
     "output_type": "execute_result"
    }
   ],
   "source": [
    "def fixxr(x):\n",
    "    x = x.split(' ',1)[0]\n",
    "    x = x.replace(',','')\n",
    "    return x\n",
    "\n",
    "data.number=data.number.apply(fixxr)\n",
    "#Remove abnormalities (beta)\n",
    "for num in data.number:\n",
    "    test = any(ele not in ['1','2','3','4','5','6','7','8','9','0'] for ele in list(num))\n",
    "    if test== True:\n",
    "        print(list(data.number).index(num))\n",
    "data.number[90] = '10500'\n",
    "\n",
    "data = data[data.number!= '0']\n",
    "data.number = data.number.apply(int)\n",
    "# data = data[data.number >= 10000]\n",
    "# data['Number of speakers'].apply(.split(' ',1)[0])\n",
    "data"
   ]
  },
  {
   "cell_type": "code",
   "execution_count": null,
   "metadata": {},
   "outputs": [],
   "source": [
    "table = soup.find('table', 'wikitable')\n",
    "links = table.findAll('a')\n",
    "for link in links: # Remove all the non titles\n",
    "    if 'title' not in str(link):\n",
    "        links.remove(link)\n",
    "\n",
    "#Everything past this point is very incomplete\n",
    "\n",
    "for link in links: # find categories and select only languages\n",
    "    cats = wikipedia.page(link.get('title')).categories\n",
    "\n",
    "\n",
    "# links_content = {}\n",
    "# print('Done extracting links. About to fetch: %s links..' % len(links))\n",
    "# for link in links:\n",
    "#     print('Fetching: %s' % link)\n",
    "#     links_content[link] = requests.get(r'https://en.wikipedia.org/wiki/{}'.format(link.get('href'))).text"
   ]
  },
  {
   "cell_type": "code",
   "execution_count": 340,
   "metadata": {},
   "outputs": [
    {
     "data": {
      "text/plain": [
       "'https://en.wikipedia.org/wiki//wiki/Mato_Grosso_do_Sul'"
      ]
     },
     "execution_count": 340,
     "metadata": {},
     "output_type": "execute_result"
    }
   ],
   "source": [
    "r'https://en.wikipedia.org/wiki/{}'.format(links[3].get('href'))"
   ]
  },
  {
   "cell_type": "code",
   "execution_count": 440,
   "metadata": {},
   "outputs": [
    {
     "data": {
      "text/plain": [
       "<a href=\"/wiki/Aymara_language\" title=\"Aymara language\">Aymara</a>"
      ]
     },
     "execution_count": 440,
     "metadata": {},
     "output_type": "execute_result"
    }
   ],
   "source": [
    "links[9]"
   ]
  },
  {
   "cell_type": "code",
   "execution_count": 446,
   "metadata": {},
   "outputs": [
    {
     "data": {
      "text/plain": [
       "True"
      ]
     },
     "execution_count": 446,
     "metadata": {},
     "output_type": "execute_result"
    }
   ],
   "source": [
    "thing = wikipedia.page(links[9].get('title'))\n",
    "'Languages of' in thing.categories[24]"
   ]
  },
  {
   "cell_type": "code",
   "execution_count": null,
   "metadata": {},
   "outputs": [],
   "source": [
    "links[100].get('title')"
   ]
  },
  {
   "cell_type": "code",
   "execution_count": 374,
   "metadata": {},
   "outputs": [
    {
     "data": {
      "text/plain": [
       "'Jujuy Province'"
      ]
     },
     "execution_count": 374,
     "metadata": {},
     "output_type": "execute_result"
    }
   ],
   "source": [
    "links[7].get('title')"
   ]
  }
 ],
 "metadata": {
  "kernelspec": {
   "display_name": "base",
   "language": "python",
   "name": "python3"
  },
  "language_info": {
   "codemirror_mode": {
    "name": "ipython",
    "version": 3
   },
   "file_extension": ".py",
   "mimetype": "text/x-python",
   "name": "python",
   "nbconvert_exporter": "python",
   "pygments_lexer": "ipython3",
   "version": "3.10.11"
  }
 },
 "nbformat": 4,
 "nbformat_minor": 2
}
